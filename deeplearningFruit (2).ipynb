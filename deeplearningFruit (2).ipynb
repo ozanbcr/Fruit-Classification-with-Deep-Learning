{
  "cells": [
    {
      "cell_type": "code",
      "execution_count": null,
      "metadata": {
        "id": "-Lo2Wm7homhs"
      },
      "outputs": [],
      "source": [
        "import numpy as np \n",
        "import pandas as pd \n",
        "import keras \n",
        "import tensorflow as tf\n",
        "import matplotlib.pyplot as plt\n",
        "%matplotlib inline\n",
        "import cv2\n",
        "import glob\n",
        "import os\n",
        "import zipfile\n",
        "from tensorflow.keras.utils import to_categorical"
      ]
    },
    {
      "cell_type": "code",
      "execution_count": null,
      "metadata": {
        "id": "MNsGts5dLM2M"
      },
      "outputs": [],
      "source": [
        "#!pip install visualkeras\n",
        "#import visualkeras"
      ]
    },
    {
      "cell_type": "code",
      "execution_count": null,
      "metadata": {
        "colab": {
          "base_uri": "https://localhost:8080/",
          "height": 90,
          "resources": {
            "http://localhost:8080/nbextensions/google.colab/files.js": {
              "data": "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",
              "headers": [
                [
                  "content-type",
                  "application/javascript"
                ]
              ],
              "ok": true,
              "status": 200,
              "status_text": ""
            }
          }
        },
        "id": "_TSgY1nForjh",
        "outputId": "37827307-01b5-4136-9fb9-39d7b3ceff5d"
      },
      "outputs": [
        {
          "output_type": "display_data",
          "data": {
            "text/plain": [
              "<IPython.core.display.HTML object>"
            ],
            "text/html": [
              "\n",
              "     <input type=\"file\" id=\"files-fbbd4487-bbc6-4c18-94d0-fd077c3d36aa\" name=\"files[]\" multiple disabled\n",
              "        style=\"border:none\" />\n",
              "     <output id=\"result-fbbd4487-bbc6-4c18-94d0-fd077c3d36aa\">\n",
              "      Upload widget is only available when the cell has been executed in the\n",
              "      current browser session. Please rerun this cell to enable.\n",
              "      </output>\n",
              "      <script src=\"/nbextensions/google.colab/files.js\"></script> "
            ]
          },
          "metadata": {}
        },
        {
          "output_type": "stream",
          "name": "stdout",
          "text": [
            "Saving kaggle.json to kaggle.json\n"
          ]
        },
        {
          "output_type": "execute_result",
          "data": {
            "text/plain": [
              "{'kaggle.json': b'{\"username\":\"kerembalc\",\"key\":\"c746f2baa96ef14bd23edd7ad971f654\"}'}"
            ]
          },
          "metadata": {},
          "execution_count": 3
        }
      ],
      "source": [
        "from google.colab import files\n",
        "files.upload()"
      ]
    },
    {
      "cell_type": "code",
      "execution_count": null,
      "metadata": {
        "id": "vxFY0n8No1T-"
      },
      "outputs": [],
      "source": [
        "!mkdir ~/.kaggle\n",
        "!cp /content/kaggle.json ~/.kaggle/kaggle.json"
      ]
    },
    {
      "cell_type": "code",
      "execution_count": null,
      "metadata": {
        "colab": {
          "base_uri": "https://localhost:8080/"
        },
        "id": "W8blkBvTo7Me",
        "outputId": "84f30f96-ee93-4412-b7e4-b5d51bd69631"
      },
      "outputs": [
        {
          "output_type": "stream",
          "name": "stdout",
          "text": [
            "Warning: Your Kaggle API key is readable by other users on this system! To fix this, you can run 'chmod 600 /root/.kaggle/kaggle.json'\n",
            "Downloading fruits.zip to /content\n",
            " 99% 1.28G/1.28G [00:08<00:00, 256MB/s]\n",
            "100% 1.28G/1.28G [00:08<00:00, 164MB/s]\n"
          ]
        }
      ],
      "source": [
        "!kaggle datasets download -d moltean/fruits"
      ]
    },
    {
      "cell_type": "code",
      "execution_count": null,
      "metadata": {
        "id": "8H7IcTl3pWpH"
      },
      "outputs": [],
      "source": [
        "zip_ref = zipfile.ZipFile('fruits.zip', 'r') #Opens the zip file in read mode\n",
        "zip_ref.extractall('/content') #Extracts the files into the /content folder\n",
        "zip_ref.close()"
      ]
    },
    {
      "cell_type": "code",
      "execution_count": null,
      "metadata": {
        "id": "OxDAlLH5o9bd"
      },
      "outputs": [],
      "source": [
        "training_fruit_img = []\n",
        "training_label = []\n",
        "for dir_path in glob.glob(\"../content/*/fruits-360/Training/*\"):\n",
        "    img_label = dir_path.split(\"/\")[-1]\n",
        "    for image_path in glob.glob(os.path.join(dir_path,\"*.jpg\")):\n",
        "        image = cv2.imread(image_path,cv2.IMREAD_COLOR)\n",
        "        image = cv2.resize(image, (32, 32))\n",
        "        image = cv2.cvtColor(image, cv2.COLOR_RGB2BGR)\n",
        "        training_fruit_img.append(image)\n",
        "        training_label.append(img_label)\n",
        "training_fruit_img = np.array(training_fruit_img)\n",
        "training_label = np.array(training_label)"
      ]
    },
    {
      "cell_type": "code",
      "execution_count": null,
      "metadata": {
        "id": "VMq1b7h8pj5n"
      },
      "outputs": [],
      "source": [
        "label_to_id = {v:k for k,v in enumerate(np.unique(training_label)) }\n",
        "id_to_label = {v:k for k,v in label_to_id.items() }"
      ]
    },
    {
      "cell_type": "code",
      "execution_count": null,
      "metadata": {
        "id": "iN0wuURDpofS"
      },
      "outputs": [],
      "source": [
        "id_to_label"
      ]
    },
    {
      "cell_type": "code",
      "execution_count": null,
      "metadata": {
        "id": "G-XBTGd0pqyL"
      },
      "outputs": [],
      "source": [
        "training_label_id = np.array([label_to_id[i] for i in training_label])"
      ]
    },
    {
      "cell_type": "code",
      "execution_count": null,
      "metadata": {
        "colab": {
          "base_uri": "https://localhost:8080/"
        },
        "id": "yjqC9Hcipv7f",
        "outputId": "e2997b26-2849-4127-b124-87d323ac817a"
      },
      "outputs": [
        {
          "output_type": "execute_result",
          "data": {
            "text/plain": [
              "array([38, 38, 38, ..., 86, 86, 86])"
            ]
          },
          "metadata": {},
          "execution_count": 11
        }
      ],
      "source": [
        "training_label_id"
      ]
    },
    {
      "cell_type": "code",
      "execution_count": null,
      "metadata": {
        "colab": {
          "base_uri": "https://localhost:8080/"
        },
        "id": "dXlOE7QapyDJ",
        "outputId": "158a9eee-0446-4068-d062-06473783206f"
      },
      "outputs": [
        {
          "output_type": "execute_result",
          "data": {
            "text/plain": [
              "((67692, 32, 32, 3), (67692,))"
            ]
          },
          "metadata": {},
          "execution_count": 12
        }
      ],
      "source": [
        "training_fruit_img.shape,training_label_id.shape"
      ]
    },
    {
      "cell_type": "code",
      "execution_count": null,
      "metadata": {
        "id": "_5h6XwEOp0vb"
      },
      "outputs": [],
      "source": [
        "test_image=[]\n",
        "test_label =[]\n",
        "for dir_path in glob.glob(\"../content/*/fruits-360/Test/*\"):\n",
        "    img_label = dir_path.split(\"/\")[-1]\n",
        "    for image_path in glob.glob(os.path.join(dir_path,\"*.jpg\")):\n",
        "        image = cv2.imread(image_path,cv2.IMREAD_COLOR)\n",
        "        image = cv2.resize(image, (32, 32))\n",
        "        image = cv2.cvtColor(image, cv2.COLOR_RGB2BGR)\n",
        "        test_image.append(image)\n",
        "        test_label.append(img_label)\n",
        "test_image = np.array(test_image)\n",
        "test_label = np.array(test_label)"
      ]
    },
    {
      "cell_type": "code",
      "execution_count": null,
      "metadata": {
        "id": "IVHKr21Mp3lE"
      },
      "outputs": [],
      "source": [
        "test_label_id = np.array([label_to_id[i] for i in test_label])"
      ]
    },
    {
      "cell_type": "code",
      "execution_count": null,
      "metadata": {
        "colab": {
          "base_uri": "https://localhost:8080/"
        },
        "id": "jOlNsdpkp5WZ",
        "outputId": "7f363383-459c-4d83-9c70-0f35084ca83e"
      },
      "outputs": [
        {
          "output_type": "execute_result",
          "data": {
            "text/plain": [
              "((22688, 32, 32, 3), (22688,))"
            ]
          },
          "metadata": {},
          "execution_count": 15
        }
      ],
      "source": [
        "test_image.shape,test_label_id.shape\n"
      ]
    },
    {
      "cell_type": "code",
      "execution_count": null,
      "metadata": {
        "id": "24e-cxiNp8An"
      },
      "outputs": [],
      "source": [
        "X_train,X_test = training_fruit_img,test_image\n",
        "y_train,y_test =training_label_id,test_label_id\n",
        "\n",
        "X_train = X_train/255\n",
        "X_test = X_test/255"
      ]
    },
    {
      "cell_type": "code",
      "execution_count": null,
      "metadata": {
        "colab": {
          "base_uri": "https://localhost:8080/"
        },
        "id": "3JI9960YraBL",
        "outputId": "a989a298-98ef-46d9-92eb-38dfe7158334"
      },
      "outputs": [
        {
          "output_type": "execute_result",
          "data": {
            "text/plain": [
              "array([38, 38, 38, ..., 86, 86, 86])"
            ]
          },
          "metadata": {},
          "execution_count": 17
        }
      ],
      "source": [
        "y_test"
      ]
    },
    {
      "cell_type": "code",
      "execution_count": null,
      "metadata": {
        "id": "5Z-_PcEXqv0t"
      },
      "outputs": [],
      "source": [
        "##X_flat_train = X_train.reshape(X_train.shape[0],32*32*3)\n",
        "##X_flat_test = X_test.reshape(X_test.shape[0],32*32*3)\n",
        "\n",
        "#One Hot Encode the Output\n",
        "y_train = keras.utils.np_utils.to_categorical(y_train,131)\n",
        "y_test = keras.utils.np_utils.to_categorical(y_test,131) ##????"
      ]
    },
    {
      "cell_type": "code",
      "execution_count": null,
      "metadata": {
        "colab": {
          "base_uri": "https://localhost:8080/"
        },
        "id": "QlJWyoh66DRn",
        "outputId": "7f18fc7f-8f08-407d-b6b5-83537c955779"
      },
      "outputs": [
        {
          "output_type": "execute_result",
          "data": {
            "text/plain": [
              "array([[0., 0., 0., ..., 0., 0., 0.],\n",
              "       [0., 0., 0., ..., 0., 0., 0.],\n",
              "       [0., 0., 0., ..., 0., 0., 0.],\n",
              "       ...,\n",
              "       [0., 0., 0., ..., 0., 0., 0.],\n",
              "       [0., 0., 0., ..., 0., 0., 0.],\n",
              "       [0., 0., 0., ..., 0., 0., 0.]], dtype=float32)"
            ]
          },
          "metadata": {},
          "execution_count": 19
        }
      ],
      "source": [
        "y_test"
      ]
    },
    {
      "cell_type": "code",
      "execution_count": null,
      "metadata": {
        "colab": {
          "base_uri": "https://localhost:8080/"
        },
        "id": "BiagJGtUq5Gd",
        "outputId": "3b641a85-a936-4fa9-c421-c8cf1d57d77c"
      },
      "outputs": [
        {
          "output_type": "stream",
          "name": "stdout",
          "text": [
            "Original Sizes: (67692, 32, 32, 3) (22688, 32, 32, 3) (67692, 131) (22688, 131)\n"
          ]
        }
      ],
      "source": [
        "print('Original Sizes:', X_train.shape, X_test.shape, y_train.shape, y_test.shape)\n",
        "#print('Flattened:', X_flat_train.shape, X_flat_test.shape)"
      ]
    },
    {
      "cell_type": "code",
      "execution_count": null,
      "metadata": {
        "colab": {
          "base_uri": "https://localhost:8080/",
          "height": 283
        },
        "id": "xITqxik1soFA",
        "outputId": "3c163947-08e5-472c-8e7e-2ee42101db4a"
      },
      "outputs": [
        {
          "output_type": "stream",
          "name": "stdout",
          "text": [
            "(32, 32, 3)\n"
          ]
        },
        {
          "output_type": "display_data",
          "data": {
            "text/plain": [
              "<Figure size 432x288 with 1 Axes>"
            ],
            "image/png": "[encoded data removed]"
          },
          "metadata": {
            "needs_background": "light"
          }
        }
      ],
      "source": [
        "print(X_train[1000].shape)\n",
        "plt.imshow(X_train[100])\n",
        "plt.show()"
      ]
    },
    {
      "cell_type": "code",
      "execution_count": null,
      "metadata": {
        "id": "DrxB1S_CtYWj"
      },
      "outputs": [],
      "source": [
        "from sklearn.model_selection import train_test_split\n",
        "from keras.models import Sequential,Model\n",
        "from keras.layers import Dense,Dropout,Conv2D,MaxPooling2D,Flatten,Activation,BatchNormalization\n",
        "from keras.layers.advanced_activations import LeakyReLU\n",
        "from keras import backend as K"
      ]
    },
    {
      "cell_type": "code",
      "execution_count": null,
      "metadata": {
        "id": "y3GZ-UUHy4MY"
      },
      "outputs": [],
      "source": [
        "X_train,val_images,y_train,val_labels = train_test_split(X_train,y_train,test_size=0.15,random_state=1)"
      ]
    },
    {
      "cell_type": "code",
      "execution_count": null,
      "metadata": {
        "colab": {
          "base_uri": "https://localhost:8080/"
        },
        "id": "9ihoEMN0CLWi",
        "outputId": "a1dccede-22fe-49dd-e19d-d6447b074dc4"
      },
      "outputs": [
        {
          "output_type": "stream",
          "name": "stdout",
          "text": [
            "Model: \"sequential\"\n",
            "_________________________________________________________________\n",
            " Layer (type)                Output Shape              Param #   \n",
            "=================================================================\n",
            " flatten (Flatten)           (None, 3072)              0         \n",
            "                                                                 \n",
            " dense (Dense)               (None, 256)               786688    \n",
            "                                                                 \n",
            " dropout (Dropout)           (None, 256)               0         \n",
            "                                                                 \n",
            " dense_1 (Dense)             (None, 128)               32896     \n",
            "                                                                 \n",
            " dense_2 (Dense)             (None, 131)               16899     \n",
            "                                                                 \n",
            "=================================================================\n",
            "Total params: 836,483\n",
            "Trainable params: 836,483\n",
            "Non-trainable params: 0\n",
            "_________________________________________________________________\n"
          ]
        }
      ],
      "source": [
        "#MLP\n",
        "model1 = Sequential();\n",
        "\n",
        "model1.add(Flatten(input_shape=(32,32,3)))\n",
        "model1.add(Dense(256,activation=\"relu\"))\n",
        "model1.add(Dropout(0.1))\n",
        "model1.add(Dense(128,activation=\"relu\"))\n",
        "\n",
        "model1.add(Dense(131,activation=\"softmax\"))\n",
        "earlystopCB = tf.keras.callbacks.EarlyStopping(monitor='val_loss', patience=3)\n",
        "\n",
        "model1.summary()"
      ]
    },
    {
      "cell_type": "code",
      "execution_count": null,
      "metadata": {
        "colab": {
          "base_uri": "https://localhost:8080/"
        },
        "id": "2dUj-D1mCNdn",
        "outputId": "637b0497-8992-457d-9a46-507e9f8210c0"
      },
      "outputs": [
        {
          "output_type": "stream",
          "name": "stdout",
          "text": [
            "Epoch 1/25\n",
            "450/450 [==============================] - 8s 16ms/step - loss: 4.4472 - accuracy: 0.0666 - val_loss: 3.7362 - val_accuracy: 0.1923\n",
            "Epoch 2/25\n",
            "450/450 [==============================] - 7s 15ms/step - loss: 2.9742 - accuracy: 0.3012 - val_loss: 2.1497 - val_accuracy: 0.5433\n",
            "Epoch 3/25\n",
            "450/450 [==============================] - 7s 16ms/step - loss: 1.8612 - accuracy: 0.5328 - val_loss: 1.3859 - val_accuracy: 0.6957\n",
            "Epoch 4/25\n",
            "450/450 [==============================] - 7s 15ms/step - loss: 1.2853 - accuracy: 0.6723 - val_loss: 0.9877 - val_accuracy: 0.7764\n",
            "Epoch 5/25\n",
            "450/450 [==============================] - 7s 15ms/step - loss: 0.9602 - accuracy: 0.7554 - val_loss: 0.7232 - val_accuracy: 0.8423\n",
            "Epoch 6/25\n",
            "450/450 [==============================] - 7s 15ms/step - loss: 0.7539 - accuracy: 0.8071 - val_loss: 0.5825 - val_accuracy: 0.8669\n",
            "Epoch 7/25\n",
            "450/450 [==============================] - 7s 15ms/step - loss: 0.6136 - accuracy: 0.8424 - val_loss: 0.4641 - val_accuracy: 0.8932\n",
            "Epoch 8/25\n",
            "450/450 [==============================] - 7s 15ms/step - loss: 0.5137 - accuracy: 0.8680 - val_loss: 0.3886 - val_accuracy: 0.9197\n",
            "Epoch 9/25\n",
            "450/450 [==============================] - 7s 15ms/step - loss: 0.4381 - accuracy: 0.8881 - val_loss: 0.3356 - val_accuracy: 0.9262\n",
            "Epoch 10/25\n",
            "450/450 [==============================] - 7s 15ms/step - loss: 0.3804 - accuracy: 0.9048 - val_loss: 0.2725 - val_accuracy: 0.9441\n",
            "Epoch 11/25\n",
            "450/450 [==============================] - 7s 15ms/step - loss: 0.3370 - accuracy: 0.9149 - val_loss: 0.2452 - val_accuracy: 0.9497\n",
            "Epoch 12/25\n",
            "450/450 [==============================] - 7s 15ms/step - loss: 0.3013 - accuracy: 0.9260 - val_loss: 0.2243 - val_accuracy: 0.9544\n",
            "Epoch 13/25\n",
            "450/450 [==============================] - 7s 15ms/step - loss: 0.2696 - accuracy: 0.9355 - val_loss: 0.1934 - val_accuracy: 0.9637\n",
            "Epoch 14/25\n",
            "450/450 [==============================] - 7s 15ms/step - loss: 0.2462 - accuracy: 0.9410 - val_loss: 0.1712 - val_accuracy: 0.9695\n",
            "Epoch 15/25\n",
            "450/450 [==============================] - 7s 15ms/step - loss: 0.2251 - accuracy: 0.9462 - val_loss: 0.1573 - val_accuracy: 0.9714\n",
            "Epoch 16/25\n",
            "450/450 [==============================] - 7s 15ms/step - loss: 0.2058 - accuracy: 0.9524 - val_loss: 0.1389 - val_accuracy: 0.9739\n",
            "Epoch 17/25\n",
            "450/450 [==============================] - 7s 15ms/step - loss: 0.1910 - accuracy: 0.9552 - val_loss: 0.1279 - val_accuracy: 0.9779\n",
            "Epoch 18/25\n",
            "450/450 [==============================] - 7s 15ms/step - loss: 0.1757 - accuracy: 0.9594 - val_loss: 0.1220 - val_accuracy: 0.9788\n",
            "Epoch 19/25\n",
            "450/450 [==============================] - 7s 15ms/step - loss: 0.1623 - accuracy: 0.9628 - val_loss: 0.1069 - val_accuracy: 0.9832\n",
            "Epoch 20/25\n",
            "450/450 [==============================] - 7s 15ms/step - loss: 0.1538 - accuracy: 0.9641 - val_loss: 0.1067 - val_accuracy: 0.9803\n",
            "Epoch 21/25\n",
            "450/450 [==============================] - 7s 15ms/step - loss: 0.1440 - accuracy: 0.9681 - val_loss: 0.0900 - val_accuracy: 0.9848\n",
            "Epoch 22/25\n",
            "450/450 [==============================] - 7s 16ms/step - loss: 0.1346 - accuracy: 0.9704 - val_loss: 0.0918 - val_accuracy: 0.9838\n",
            "Epoch 23/25\n",
            "450/450 [==============================] - 7s 15ms/step - loss: 0.1277 - accuracy: 0.9714 - val_loss: 0.0787 - val_accuracy: 0.9880\n",
            "Epoch 24/25\n",
            "450/450 [==============================] - 7s 15ms/step - loss: 0.1209 - accuracy: 0.9734 - val_loss: 0.0768 - val_accuracy: 0.9868\n",
            "Epoch 25/25\n",
            "450/450 [==============================] - 7s 15ms/step - loss: 0.1146 - accuracy: 0.9754 - val_loss: 0.0745 - val_accuracy: 0.9876\n"
          ]
        }
      ],
      "source": [
        "model1.compile(optimizer=\"sgd\",loss='categorical_crossentropy' ,metrics=['accuracy'])   \n",
        "\n",
        "history = model1.fit(X_train,y_train,epochs = 25,validation_data= (val_images,val_labels),batch_size=128,callbacks=[earlystopCB])"
      ]
    },
    {
      "cell_type": "code",
      "execution_count": null,
      "metadata": {
        "colab": {
          "base_uri": "https://localhost:8080/"
        },
        "id": "pTBbXyezC2TZ",
        "outputId": "95130e2b-26b2-4d44-d569-2f08fd3e2973"
      },
      "outputs": [
        {
          "output_type": "stream",
          "name": "stdout",
          "text": [
            "709/709 [==============================] - 3s 3ms/step - loss: 0.3585 - accuracy: 0.8952\n"
          ]
        }
      ],
      "source": [
        "test_loss,test_acc = model1.evaluate(X_test,y_test)"
      ]
    },
    {
      "cell_type": "code",
      "execution_count": null,
      "metadata": {
        "colab": {
          "base_uri": "https://localhost:8080/",
          "height": 1000
        },
        "id": "Ydf8BhQwNHjB",
        "outputId": "d0df9379-db03-44aa-cc36-1c30150228f5"
      },
      "outputs": [
        {
          "output_type": "execute_result",
          "data": {
            "text/plain": [
              "[Text(0.5, 0, 'Epochs')]"
            ]
          },
          "metadata": {},
          "execution_count": 27
        },
        {
          "output_type": "display_data",
          "data": {
            "text/plain": [
              "<Figure size 432x288 with 1 Axes>"
            ],
            "image/png": "[encoded data removed]"
          },
          "metadata": {
            "needs_background": "light"
          }
        },
        {
          "output_type": "display_data",
          "data": {
            "text/plain": [
              "<Figure size 432x288 with 1 Axes>"
            ],
            "image/png": "[encoded data removed]"
          },
          "metadata": {
            "needs_background": "light"
          }
        },
        {
          "output_type": "display_data",
          "data": {
            "text/plain": [
              "<Figure size 432x288 with 1 Axes>"
            ],
            "image/png": "[encoded data removed]"
          },
          "metadata": {
            "needs_background": "light"
          }
        },
        {
          "output_type": "display_data",
          "data": {
            "text/plain": [
              "<Figure size 432x288 with 1 Axes>"
            ],
            "image/png": "[encoded data removed]"
          },
          "metadata": {
            "needs_background": "light"
          }
        }
      ],
      "source": [
        "df = pd.DataFrame(history.history)\n",
        "df.head()\n",
        "loss_plot = df.plot(y = 'loss' , title = 'Train Loss vs Epochs', legend= False)\n",
        "loss_plot.set(xlabel='Epochs')\n",
        "\n",
        "acc_plot = df.plot(y = 'accuracy' , title = 'Train Acc vs Epochs', legend= False)\n",
        "acc_plot.set(xlabel='Epochs')\n",
        "\n",
        "loss_plot = df.plot(y = 'val_loss' , title = ' Val Loss vs Epochs', legend= False)\n",
        "#loss_plot.set(xlabel='Epochs')\n",
        "\n",
        "acc_plot = df.plot(y = 'val_accuracy' , title = 'Val Acc vs Epochs', legend= False)\n",
        "acc_plot.set(xlabel='Epochs')"
      ]
    },
    {
      "cell_type": "code",
      "execution_count": null,
      "metadata": {
        "colab": {
          "base_uri": "https://localhost:8080/"
        },
        "id": "krsoGC1ByrsS",
        "outputId": "47c14203-938c-4247-ef44-b98253cb5137"
      },
      "outputs": [
        {
          "output_type": "stream",
          "name": "stdout",
          "text": [
            "Model: \"sequential_1\"\n",
            "_________________________________________________________________\n",
            " Layer (type)                Output Shape              Param #   \n",
            "=================================================================\n",
            " conv2d (Conv2D)             (None, 30, 30, 6)         168       \n",
            "                                                                 \n",
            " batch_normalization (BatchN  (None, 30, 30, 6)        24        \n",
            " ormalization)                                                   \n",
            "                                                                 \n",
            " max_pooling2d (MaxPooling2D  (None, 15, 15, 6)        0         \n",
            " )                                                               \n",
            "                                                                 \n",
            " conv2d_1 (Conv2D)           (None, 13, 13, 16)        880       \n",
            "                                                                 \n",
            " batch_normalization_1 (Batc  (None, 13, 13, 16)       64        \n",
            " hNormalization)                                                 \n",
            "                                                                 \n",
            " max_pooling2d_1 (MaxPooling  (None, 6, 6, 16)         0         \n",
            " 2D)                                                             \n",
            "                                                                 \n",
            " flatten_1 (Flatten)         (None, 576)               0         \n",
            "                                                                 \n",
            " dense_3 (Dense)             (None, 120)               69240     \n",
            "                                                                 \n",
            " dropout_1 (Dropout)         (None, 120)               0         \n",
            "                                                                 \n",
            " dense_4 (Dense)             (None, 84)                10164     \n",
            "                                                                 \n",
            " dense_5 (Dense)             (None, 131)               11135     \n",
            "                                                                 \n",
            "=================================================================\n",
            "Total params: 91,675\n",
            "Trainable params: 91,631\n",
            "Non-trainable params: 44\n",
            "_________________________________________________________________\n"
          ]
        }
      ],
      "source": [
        "# CNN Model 1 - LeNet\n",
        "model2 = Sequential()\n",
        "\n",
        "model2.add(Conv2D(6, kernel_size=(3, 3), activation='relu', input_shape=(32,32,3)))\n",
        "model2.add(BatchNormalization())\n",
        "model2.add(MaxPooling2D())\n",
        "\n",
        "model2.add(Conv2D(filters=16, kernel_size=(3, 3), activation='relu'))\n",
        "model2.add(BatchNormalization())\n",
        "model2.add(MaxPooling2D())\n",
        "\n",
        "model2.add(Flatten())\n",
        "\n",
        "model2.add(Dense(120, activation='relu'))\n",
        "model2.add(Dropout(0.2)) ###\n",
        "\n",
        "model2.add(Dense(units=84, activation='relu'))\n",
        "\n",
        "model2.add(Dense(units=131, activation = 'softmax'))\n",
        "\n",
        "model2.summary()"
      ]
    },
    {
      "cell_type": "code",
      "execution_count": null,
      "metadata": {
        "colab": {
          "base_uri": "https://localhost:8080/"
        },
        "id": "ZLzcp8qo4cp1",
        "outputId": "906954da-b0ae-4303-98a5-7e2496c23a5c"
      },
      "outputs": [
        {
          "output_type": "stream",
          "name": "stdout",
          "text": [
            "Epoch 1/10\n",
            "450/450 [==============================] - 44s 97ms/step - loss: 1.1348 - accuracy: 0.7162 - val_loss: 1.4724 - val_accuracy: 0.6192\n",
            "Epoch 2/10\n",
            "450/450 [==============================] - 43s 96ms/step - loss: 0.1234 - accuracy: 0.9624 - val_loss: 0.0336 - val_accuracy: 0.9922\n",
            "Epoch 3/10\n",
            "450/450 [==============================] - 43s 96ms/step - loss: 0.0619 - accuracy: 0.9812 - val_loss: 0.0165 - val_accuracy: 0.9968\n",
            "Epoch 4/10\n",
            "450/450 [==============================] - 43s 96ms/step - loss: 0.0401 - accuracy: 0.9875 - val_loss: 0.0111 - val_accuracy: 0.9968\n",
            "Epoch 5/10\n",
            "450/450 [==============================] - 43s 97ms/step - loss: 0.0370 - accuracy: 0.9883 - val_loss: 0.0206 - val_accuracy: 0.9921\n",
            "Epoch 6/10\n",
            "450/450 [==============================] - 44s 97ms/step - loss: 0.0301 - accuracy: 0.9906 - val_loss: 0.0322 - val_accuracy: 0.9883\n",
            "Epoch 7/10\n",
            "450/450 [==============================] - 43s 96ms/step - loss: 0.0315 - accuracy: 0.9900 - val_loss: 0.0078 - val_accuracy: 0.9977\n",
            "Epoch 8/10\n",
            "450/450 [==============================] - 44s 97ms/step - loss: 0.0268 - accuracy: 0.9913 - val_loss: 0.0187 - val_accuracy: 0.9933\n",
            "Epoch 9/10\n",
            "450/450 [==============================] - 43s 96ms/step - loss: 0.0236 - accuracy: 0.9925 - val_loss: 0.0092 - val_accuracy: 0.9973\n",
            "Epoch 10/10\n",
            "450/450 [==============================] - 43s 96ms/step - loss: 0.0223 - accuracy: 0.9921 - val_loss: 0.0185 - val_accuracy: 0.9944\n"
          ]
        }
      ],
      "source": [
        "model2.compile(loss='categorical_crossentropy',optimizer = 'adam',metrics=['accuracy'])\n",
        "\n",
        "history = model2.fit(X_train,y_train,batch_size=128,epochs=10,verbose=1,validation_data = (val_images,val_labels))"
      ]
    },
    {
      "cell_type": "code",
      "execution_count": null,
      "metadata": {
        "colab": {
          "base_uri": "https://localhost:8080/"
        },
        "id": "iePZpWLE4fjQ",
        "outputId": "cefd5138-3ac4-4372-c12c-c685c661fac2"
      },
      "outputs": [
        {
          "output_type": "stream",
          "name": "stdout",
          "text": [
            "709/709 [==============================] - 8s 11ms/step - loss: 0.3374 - accuracy: 0.9286\n",
            "Test loss: 0.3373989760875702     Test accuracy: 0.9285966157913208\n"
          ]
        }
      ],
      "source": [
        "score = model2.evaluate(X_test, y_test)\n",
        "print('Test loss:', score[0],'    Test accuracy:', score[1])"
      ]
    },
    {
      "cell_type": "code",
      "execution_count": null,
      "metadata": {
        "colab": {
          "base_uri": "https://localhost:8080/",
          "height": 1000
        },
        "id": "S6N6epwLNDEP",
        "outputId": "cf70b6e4-1234-41ac-86e0-805f174c890c"
      },
      "outputs": [
        {
          "output_type": "execute_result",
          "data": {
            "text/plain": [
              "[Text(0.5, 0, 'Epochs')]"
            ]
          },
          "metadata": {},
          "execution_count": 31
        },
        {
          "output_type": "display_data",
          "data": {
            "text/plain": [
              "<Figure size 432x288 with 1 Axes>"
            ],
            "image/png": "[encoded data removed]"
          },
          "metadata": {
            "needs_background": "light"
          }
        },
        {
          "output_type": "display_data",
          "data": {
            "text/plain": [
              "<Figure size 432x288 with 1 Axes>"
            ],
            "image/png": "[encoded data removed]"
          },
          "metadata": {
            "needs_background": "light"
          }
        },
        {
          "output_type": "display_data",
          "data": {
            "text/plain": [
              "<Figure size 432x288 with 1 Axes>"
            ],
            "image/png": "[encoded data removed]"
          },
          "metadata": {
            "needs_background": "light"
          }
        },
        {
          "output_type": "display_data",
          "data": {
            "text/plain": [
              "<Figure size 432x288 with 1 Axes>"
            ],
            "image/png": "[encoded data removed]"
          },
          "metadata": {
            "needs_background": "light"
          }
        }
      ],
      "source": [
        "df = pd.DataFrame(history.history)\n",
        "df.head()\n",
        "loss_plot = df.plot(y = 'loss' , title = 'Train Loss vs Epochs', legend= False)\n",
        "loss_plot.set(xlabel='Epochs')\n",
        "\n",
        "acc_plot = df.plot(y = 'accuracy' , title = 'Train Acc vs Epochs', legend= False)\n",
        "acc_plot.set(xlabel='Epochs')\n",
        "\n",
        "loss_plot = df.plot(y = 'val_loss' , title = ' Val Loss vs Epochs', legend= False)\n",
        "#loss_plot.set(xlabel='Epochs')\n",
        "\n",
        "acc_plot = df.plot(y = 'val_accuracy' , title = 'Val Acc vs Epochs', legend= False)\n",
        "acc_plot.set(xlabel='Epochs')"
      ]
    },
    {
      "cell_type": "code",
      "execution_count": null,
      "metadata": {
        "colab": {
          "base_uri": "https://localhost:8080/"
        },
        "id": "wLXVXCzOtbed",
        "outputId": "961f055d-03d0-4096-f636-be4a8ba0f734"
      },
      "outputs": [
        {
          "output_type": "stream",
          "name": "stdout",
          "text": [
            "Model: \"sequential_2\"\n",
            "_________________________________________________________________\n",
            " Layer (type)                Output Shape              Param #   \n",
            "=================================================================\n",
            " conv2d_2 (Conv2D)           (None, 32, 32, 16)        448       \n",
            "                                                                 \n",
            " batch_normalization_2 (Batc  (None, 32, 32, 16)       64        \n",
            " hNormalization)                                                 \n",
            "                                                                 \n",
            " max_pooling2d_2 (MaxPooling  (None, 16, 16, 16)       0         \n",
            " 2D)                                                             \n",
            "                                                                 \n",
            " conv2d_3 (Conv2D)           (None, 16, 16, 32)        4640      \n",
            "                                                                 \n",
            " batch_normalization_3 (Batc  (None, 16, 16, 32)       128       \n",
            " hNormalization)                                                 \n",
            "                                                                 \n",
            " max_pooling2d_3 (MaxPooling  (None, 8, 8, 32)         0         \n",
            " 2D)                                                             \n",
            "                                                                 \n",
            " conv2d_4 (Conv2D)           (None, 8, 8, 32)          9248      \n",
            "                                                                 \n",
            " batch_normalization_4 (Batc  (None, 8, 8, 32)         128       \n",
            " hNormalization)                                                 \n",
            "                                                                 \n",
            " max_pooling2d_4 (MaxPooling  (None, 4, 4, 32)         0         \n",
            " 2D)                                                             \n",
            "                                                                 \n",
            " conv2d_5 (Conv2D)           (None, 4, 4, 64)          18496     \n",
            "                                                                 \n",
            " batch_normalization_5 (Batc  (None, 4, 4, 64)         256       \n",
            " hNormalization)                                                 \n",
            "                                                                 \n",
            " max_pooling2d_5 (MaxPooling  (None, 2, 2, 64)         0         \n",
            " 2D)                                                             \n",
            "                                                                 \n",
            " flatten_2 (Flatten)         (None, 256)               0         \n",
            "                                                                 \n",
            " dense_6 (Dense)             (None, 256)               65792     \n",
            "                                                                 \n",
            " dropout_2 (Dropout)         (None, 256)               0         \n",
            "                                                                 \n",
            " dense_7 (Dense)             (None, 131)               33667     \n",
            "                                                                 \n",
            "=================================================================\n",
            "Total params: 132,867\n",
            "Trainable params: 132,579\n",
            "Non-trainable params: 288\n",
            "_________________________________________________________________\n"
          ]
        }
      ],
      "source": [
        "# CNN Model 2\n",
        "model3 = Sequential()\n",
        "model3.add(Conv2D(16,(3,3),input_shape=(32,32,3),padding='same',activation='relu'))\n",
        "model3.add(BatchNormalization())\n",
        "model3.add(MaxPooling2D(pool_size=(2,2)))\n",
        "\n",
        "model3.add(Conv2D(32,(3,3),padding='same',activation='relu'))\n",
        "model3.add(BatchNormalization())\n",
        "model3.add(MaxPooling2D(pool_size=(2,2)))\n",
        "\n",
        "model3.add(Conv2D(32,(3,3),padding='same',activation='relu'))\n",
        "model3.add(BatchNormalization())\n",
        "model3.add(MaxPooling2D(pool_size=(2,2)))\n",
        "\n",
        "model3.add(Conv2D(64,(3,3),padding='same',activation='relu'))\n",
        "model3.add(BatchNormalization())\n",
        "model3.add(MaxPooling2D(pool_size=(2,2)))\n",
        "\n",
        "model3.add(Flatten())\n",
        "model3.add(Dense(256,activation='relu'))\n",
        "model3.add(Dropout(0.2))\n",
        "model3.add(Dense(131,activation='softmax'))\n",
        "\n",
        "model3.summary()"
      ]
    },
    {
      "cell_type": "code",
      "execution_count": null,
      "metadata": {
        "id": "5wQgffLPtpps",
        "colab": {
          "base_uri": "https://localhost:8080/"
        },
        "outputId": "aebd92cd-4898-40d3-a2cf-714adf2f1bf2"
      },
      "outputs": [
        {
          "output_type": "stream",
          "name": "stdout",
          "text": [
            "Epoch 1/7\n",
            "450/450 [==============================] - 81s 179ms/step - loss: 2.1859 - accuracy: 0.5269 - val_loss: 1.4066 - val_accuracy: 0.7622\n",
            "Epoch 2/7\n",
            "450/450 [==============================] - 79s 175ms/step - loss: 0.4443 - accuracy: 0.9058 - val_loss: 0.2253 - val_accuracy: 0.9672\n",
            "Epoch 3/7\n",
            "450/450 [==============================] - 79s 175ms/step - loss: 0.1891 - accuracy: 0.9646 - val_loss: 0.0711 - val_accuracy: 0.9935\n",
            "Epoch 4/7\n",
            "450/450 [==============================] - 79s 176ms/step - loss: 0.1072 - accuracy: 0.9825 - val_loss: 0.0422 - val_accuracy: 0.9961\n",
            "Epoch 5/7\n",
            "450/450 [==============================] - 78s 173ms/step - loss: 0.0721 - accuracy: 0.9895 - val_loss: 0.0340 - val_accuracy: 0.9956\n",
            "Epoch 6/7\n",
            "450/450 [==============================] - 78s 174ms/step - loss: 0.0528 - accuracy: 0.9925 - val_loss: 0.0175 - val_accuracy: 0.9990\n",
            "Epoch 7/7\n",
            "450/450 [==============================] - 79s 175ms/step - loss: 0.0411 - accuracy: 0.9950 - val_loss: 0.0168 - val_accuracy: 0.9985\n"
          ]
        }
      ],
      "source": [
        "model3.compile(loss='categorical_crossentropy',optimizer = 'sgd',metrics=['accuracy'])\n",
        "\n",
        "history=model3.fit(X_train,y_train,batch_size=128,epochs=7,verbose=1,validation_data = (val_images,val_labels),shuffle=True)"
      ]
    },
    {
      "cell_type": "code",
      "execution_count": null,
      "metadata": {
        "id": "TbSAN5ckt6xS",
        "colab": {
          "base_uri": "https://localhost:8080/"
        },
        "outputId": "fddbcdc5-23d9-40f0-cb9c-d843fe44f5a2"
      },
      "outputs": [
        {
          "output_type": "stream",
          "name": "stdout",
          "text": [
            "709/709 [==============================] - 11s 15ms/step - loss: 0.2253 - accuracy: 0.9449\n",
            "Test loss: 0.22528530657291412     Test accuracy: 0.9448606967926025\n"
          ]
        }
      ],
      "source": [
        "score = model3.evaluate(X_test, y_test)\n",
        "print('Test loss:', score[0],'    Test accuracy:', score[1])"
      ]
    },
    {
      "cell_type": "code",
      "execution_count": null,
      "metadata": {
        "id": "tVwAr-e6M2lC",
        "colab": {
          "base_uri": "https://localhost:8080/",
          "height": 1000
        },
        "outputId": "39a550c7-492f-4a79-b38f-3b596545abc7"
      },
      "outputs": [
        {
          "output_type": "execute_result",
          "data": {
            "text/plain": [
              "[Text(0.5, 0, 'Epochs')]"
            ]
          },
          "metadata": {},
          "execution_count": 35
        },
        {
          "output_type": "display_data",
          "data": {
            "text/plain": [
              "<Figure size 432x288 with 1 Axes>"
            ],
            "image/png": "[encoded data removed]"
          },
          "metadata": {
            "needs_background": "light"
          }
        },
        {
          "output_type": "display_data",
          "data": {
            "text/plain": [
              "<Figure size 432x288 with 1 Axes>"
            ],
            "image/png": "[encoded data removed]"
          },
          "metadata": {
            "needs_background": "light"
          }
        },
        {
          "output_type": "display_data",
          "data": {
            "text/plain": [
              "<Figure size 432x288 with 1 Axes>"
            ],
            "image/png": "[encoded data removed]"
          },
          "metadata": {
            "needs_background": "light"
          }
        },
        {
          "output_type": "display_data",
          "data": {
            "text/plain": [
              "<Figure size 432x288 with 1 Axes>"
            ],
            "image/png": "[encoded data removed]"
          },
          "metadata": {
            "needs_background": "light"
          }
        }
      ],
      "source": [
        "df = pd.DataFrame(history.history)\n",
        "df.head()\n",
        "loss_plot = df.plot(y = 'loss' , title = 'Train Loss vs Epochs', legend= False)\n",
        "loss_plot.set(xlabel='Epochs')\n",
        "\n",
        "acc_plot = df.plot(y = 'accuracy' , title = 'Train Acc vs Epochs', legend= False)\n",
        "acc_plot.set(xlabel='Epochs')\n",
        "\n",
        "loss_plot = df.plot(y = 'val_loss' , title = ' Val Loss vs Epochs', legend= False)\n",
        "#loss_plot.set(xlabel='Epochs')\n",
        "\n",
        "acc_plot = df.plot(y = 'val_accuracy' , title = 'Val Acc vs Epochs', legend= False)\n",
        "acc_plot.set(xlabel='Epochs')"
      ]
    },
    {
      "cell_type": "code",
      "source": [
        ""
      ],
      "metadata": {
        "id": "CtKIKEa5TtSp"
      },
      "execution_count": null,
      "outputs": []
    }
  ],
  "metadata": {
    "colab": {
      "collapsed_sections": [],
      "name": "deeplearningFruit.ipynb",
      "provenance": []
    },
    "kernelspec": {
      "display_name": "Python 3",
      "name": "python3"
    },
    "language_info": {
      "name": "python"
    }
  },
  "nbformat": 4,
  "nbformat_minor": 0
}